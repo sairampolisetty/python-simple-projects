{
  "nbformat": 4,
  "nbformat_minor": 0,
  "metadata": {
    "colab": {
      "provenance": []
    },
    "kernelspec": {
      "name": "python3",
      "display_name": "Python 3"
    },
    "language_info": {
      "name": "python"
    }
  },
  "cells": [
    {
      "cell_type": "code",
      "execution_count": null,
      "metadata": {
        "id": "BS3_OwnEC9af"
      },
      "outputs": [],
      "source": [
        "import random\n",
        "\n",
        "player=0\n",
        "cpu=0\n",
        "\n",
        "while player<3 and cpu<3:\n",
        "  cpu_choice=random.choice([\"rock\",\"paper\",\"scissors\"])\n",
        "  player_choice=input(\"rock,paper,scissors\")\n",
        "\n",
        "  print(\"cpu:\",cpu_choice,\"player:\",player_choice)\n",
        "\n",
        "  if player_choice==cpu_choice:\n",
        "    print(\"tie!no points\")\n",
        "  \n",
        "  elif player_choice.lower()==\"rock\":\n",
        "    if cpu_choice.lower()==\"scissors\":\n",
        "      player+=1\n",
        "      print(\"player wins\")\n",
        "    elif cpu_choice.lower()==\"paper\":\n",
        "      cpu+=1\n",
        "      print(\"cpu wins one point\")\n",
        "\n",
        "  elif player_choice.lower()==\"scissors\":\n",
        "    if cpu_choice.lower()==\"paper\":\n",
        "      player+=1\n",
        "      print(\"player wins\")\n",
        "    elif cpu_choice.lower()==\"rock\":\n",
        "      cpu+=1\n",
        "      print(\"cpu wins one point\")\n",
        "\n",
        "  elif player_choice.lower()==\"paper\":\n",
        "    if cpu_choice.lower()==\"rock\":\n",
        "      player+=1\n",
        "      print(\"player wins\")\n",
        "    elif cpu_choice.lower()==\"scissors\":\n",
        "      cpu+=1\n",
        "      print(\"cpu wins one point\")\n",
        "\n",
        "  else:\n",
        "     print(\"invalid input\")  "
      ]
    }
  ]
}