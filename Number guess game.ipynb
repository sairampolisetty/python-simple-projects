{
  "cells": [
    {
      "cell_type": "code",
      "source": [
        "import random\n",
        "\n",
        "number=random.randint(0,10)\n",
        "tries=0\n",
        "found=False\n",
        "\n",
        "while not found:\n",
        "  guess=int(input(\"guess:\"))\n",
        "  tries+=1\n",
        "  if guess==number:\n",
        "    found=True\n",
        "    print(f\"you found the number {number} after {tries} tries\")\n",
        "    quit()\n",
        "  elif guess>number:\n",
        "    print(f\"the number is less than {guess}\")\n",
        "  else:\n",
        "    print(f\"the number is greater than {guess}\")\n"
      ],
      "metadata": {
        "id": "bdO6hx7B9-ss"
      },
      "execution_count": null,
      "outputs": []
    },
    {
      "cell_type": "code",
      "source": [],
      "metadata": {
        "id": "oHRbhcl5-_kg"
      },
      "execution_count": null,
      "outputs": []
    }
  ],
  "metadata": {
    "colab": {
      "collapsed_sections": [],
      "name": "Welcome To Colaboratory",
      "toc_visible": true,
      "provenance": []
    },
    "kernelspec": {
      "display_name": "Python 3",
      "name": "python3"
    }
  },
  "nbformat": 4,
  "nbformat_minor": 0
}